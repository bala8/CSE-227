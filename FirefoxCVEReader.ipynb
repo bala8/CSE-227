{
 "cells": [
  {
   "cell_type": "code",
   "execution_count": 12,
   "metadata": {
    "collapsed": true
   },
   "outputs": [],
   "source": [
    "import urllib2\n",
    "import os\n",
    "from bs4 import BeautifulSoup\n",
    "import re\n",
    "from datetime import datetime\n",
    "import csv\n",
    "import matplotlib.pyplot as plt\n",
    "import pickle\n",
    "import numpy as np"
   ]
  },
  {
   "cell_type": "code",
   "execution_count": 8,
   "metadata": {},
   "outputs": [],
   "source": [
    "os.chdir('./Downloads')"
   ]
  },
  {
   "cell_type": "code",
   "execution_count": 124,
   "metadata": {},
   "outputs": [],
   "source": [
    "def load_obj(name):\n",
    "    with open(name + '.pkl', 'rb') as f:\n",
    "        return pickle.load(f)\n",
    "\n",
    "cve_to_date = load_obj(\"cve_to_bugzilla_date\")\n",
    "blah = {}\n",
    "for key,val in cve_to_date.iteritems():\n",
    "    key = key.encode('utf8')\n",
    "    blah[key] = val\n",
    "cve_to_date = blah\n"
   ]
  },
  {
   "cell_type": "code",
   "execution_count": 62,
   "metadata": {},
   "outputs": [
    {
     "name": "stdout",
     "output_type": "stream",
     "text": [
      "{2016: 0, 2006: 57, 2007: 82, 2008: 78, 2009: 49, 2010: 50, 2011: 40, 2012: 128, 2013: 41, 2014: 36, 2015: 4}\n",
      "{2016: 77, 2006: 58, 2007: 85, 2008: 102, 2009: 111, 2010: 93, 2011: 104, 2012: 188, 2013: 127, 2014: 123, 2015: 176}\n"
     ]
    }
   ],
   "source": [
    "#year wise trend of foundational vulnerabilities\n",
    "fTotal = {}\n",
    "total = {}\n",
    "foundation = 2\n",
    "def foundationalTotal(filename,year):\n",
    "    with open(filename) as csvDataFile:\n",
    "            csvReader = csv.reader(csvDataFile)\n",
    "            next(csvReader, None)\n",
    "            #d[year] = 0\n",
    "            for row in csvReader:\n",
    "                cveNum = row[0].strip()\n",
    "                if cveNum in cve_to_date:\n",
    "                    minYear = min(year,cve_to_date[cveNum].year)\n",
    "                else: \n",
    "                    minYear = year\n",
    "                row[1] = row[1].strip()\n",
    "                if row[1] == '' or row[1] == '-':\n",
    "                    continue\n",
    "                verSplit = row[1].split('.')\n",
    "                if minYear in total:\n",
    "                    total[minYear] += 1\n",
    "                else:\n",
    "                    total[minYear] = 1\n",
    "                try:\n",
    "                    if(int(verSplit[0]) <= foundation):\n",
    "                        if minYear in fTotal:\n",
    "                            fTotal[minYear] += 1\n",
    "                        else:\n",
    "                            fTotal[minYear] = 1\n",
    "                except ValueError:\n",
    "                    continue\n",
    "                    \n",
    "foundationalTotal(\"firefox2016.csv\",2016)  \n",
    "foundationalTotal(\"firefox2015.csv\",2015)\n",
    "foundationalTotal(\"firefox2014.csv\",2014)\n",
    "foundationalTotal(\"firefox2013.csv\",2013)\n",
    "foundationalTotal(\"firefox2012.csv\",2012)\n",
    "foundationalTotal(\"firefox2011.csv\",2011)\n",
    "foundationalTotal(\"firefox2010.csv\",2010)\n",
    "foundationalTotal(\"firefox2009.csv\",2009)\n",
    "foundationalTotal(\"firefox2008.csv\",2008)\n",
    "foundationalTotal(\"firefox2007.csv\",2007)\n",
    "foundationalTotal(\"firefox2006.csv\",2006)\n",
    "# fTotal.pop(2000)\n",
    "# fTotal.pop(2005)\n",
    "fTotal[2016] = 0\n",
    "for year in fTotal.keys():\n",
    "    if year < 2006:\n",
    "        fTotal.pop(year)\n",
    "for year in total.keys():\n",
    "    if year < 2006:\n",
    "        total.pop(year)\n",
    "# total.pop(2000)\n",
    "# total.pop(2002)\n",
    "# total.pop(2003)\n",
    "# total.pop(2004)\n",
    "# total.pop(2005)\n",
    "print fTotal\n",
    "print total"
   ]
  },
  {
   "cell_type": "code",
   "execution_count": 63,
   "metadata": {},
   "outputs": [
    {
     "name": "stdout",
     "output_type": "stream",
     "text": [
      "[2006, 2007, 2008, 2009, 2010, 2011, 2012, 2013, 2014, 2015, 2016]\n",
      "[58, 85, 102, 111, 93, 104, 188, 127, 123, 176, 77]\n",
      "[57, 82, 78, 49, 50, 40, 128, 41, 36, 4, 0]\n"
     ]
    }
   ],
   "source": [
    "totalNew = sorted(total.items())\n",
    "years = []\n",
    "xList = []\n",
    "for k,v in totalNew:\n",
    "    years.append(k)\n",
    "    xList.append(v)\n",
    "fTotalNew = sorted(fTotal.items())\n",
    "xList2 = []\n",
    "for k,v in fTotalNew:\n",
    "    xList2.append(v)\n",
    "print years\n",
    "print xList\n",
    "print xList2"
   ]
  },
  {
   "cell_type": "code",
   "execution_count": 64,
   "metadata": {},
   "outputs": [
    {
     "data": {
      "image/png": "[encoded data removed]",
      "text/plain": [
       "<matplotlib.figure.Figure at 0x116dd8490>"
      ]
     },
     "metadata": {},
     "output_type": "display_data"
    }
   ],
   "source": [
    "#plotting year vs foundational vuls\n",
    "# data to plot\n",
    "total = xList\n",
    "fTotal = xList2\n",
    "n_groups = len(total)\n",
    " \n",
    "# create plot\n",
    "fig, ax = plt.subplots()\n",
    "index = np.arange(n_groups)\n",
    "bar_width = 0.3\n",
    "opacity = 0.8\n",
    " \n",
    "rects1 = plt.bar(index, total, bar_width,\n",
    "                 alpha=opacity,\n",
    "                 color='b',\n",
    "                 label='Total Vulnerabilities')\n",
    " \n",
    "rects2 = plt.bar(index + bar_width, fTotal, bar_width,\n",
    "                 alpha=opacity,\n",
    "                 color='g',\n",
    "                 label='Foundational Vulnerabilities')\n",
    " \n",
    "plt.xlabel('Year')\n",
    "plt.ylabel('Num of Vulnerabilities')\n",
    "plt.title('Vulnerablity stats by year')\n",
    "plt.xticks(index + bar_width, years)\n",
    "plt.legend()\n",
    " \n",
    "plt.tight_layout()\n",
    "plt.show()"
   ]
  },
  {
   "cell_type": "code",
   "execution_count": 65,
   "metadata": {},
   "outputs": [
    {
     "name": "stdout",
     "output_type": "stream",
     "text": [
      "[98, 96, 76, 44, 53, 38, 68, 32, 29, 2, 0]\n"
     ]
    },
    {
     "data": {
      "image/png": "[encoded data removed]",
      "text/plain": [
       "<matplotlib.figure.Figure at 0x11903ae10>"
      ]
     },
     "metadata": {},
     "output_type": "display_data"
    }
   ],
   "source": [
    "#plotting % foundational vuls by year\n",
    "# data to plot\n",
    "n_groups = len(total)\n",
    "percent = []\n",
    "for val1,val2 in zip(fTotal,total):\n",
    "    res = (val1*100)/val2\n",
    "    percent.append(res)\n",
    "print percent\n",
    "# create plot\n",
    "fig, ax = plt.subplots()\n",
    "index = np.arange(n_groups)\n",
    "bar_width = 0.35\n",
    "opacity = 0.8\n",
    " \n",
    "rects1 = plt.bar(index, percent, bar_width,\n",
    "                 alpha=opacity,\n",
    "                 color='b',\n",
    "                 label='Percentage Foundational Vulnerabilities')\n",
    "\n",
    "plt.xlabel('Year')\n",
    "plt.ylabel('Num of Vulnerabilities')\n",
    "plt.title('Vulnerablity stats by year')\n",
    "plt.xticks(index + bar_width, years)\n",
    "plt.legend()\n",
    " \n",
    "plt.tight_layout()\n",
    "plt.show()"
   ]
  },
  {
   "cell_type": "code",
   "execution_count": 66,
   "metadata": {},
   "outputs": [
    {
     "ename": "NameError",
     "evalue": "name 'd' is not defined",
     "output_type": "error",
     "traceback": [
      "\u001b[0;31m---------------------------------------------------------------------------\u001b[0m",
      "\u001b[0;31mNameError\u001b[0m                                 Traceback (most recent call last)",
      "\u001b[0;32m<ipython-input-66-200183be4542>\u001b[0m in \u001b[0;36m<module>\u001b[0;34m()\u001b[0m\n\u001b[1;32m      2\u001b[0m \u001b[0mfirst\u001b[0m \u001b[0;34m=\u001b[0m \u001b[0;36m0\u001b[0m\u001b[0;34m\u001b[0m\u001b[0m\n\u001b[1;32m      3\u001b[0m \u001b[0msecond\u001b[0m \u001b[0;34m=\u001b[0m \u001b[0;36m0\u001b[0m\u001b[0;34m\u001b[0m\u001b[0m\n\u001b[0;32m----> 4\u001b[0;31m \u001b[0;32mfor\u001b[0m \u001b[0mkey\u001b[0m\u001b[0;34m,\u001b[0m\u001b[0mval\u001b[0m \u001b[0;32min\u001b[0m \u001b[0md\u001b[0m\u001b[0;34m.\u001b[0m\u001b[0miteritems\u001b[0m\u001b[0;34m(\u001b[0m\u001b[0;34m)\u001b[0m\u001b[0;34m:\u001b[0m\u001b[0;34m\u001b[0m\u001b[0m\n\u001b[0m\u001b[1;32m      5\u001b[0m     \u001b[0;32mif\u001b[0m \u001b[0mkey\u001b[0m \u001b[0;34m<\u001b[0m \u001b[0;36m2011\u001b[0m\u001b[0;34m:\u001b[0m\u001b[0;34m\u001b[0m\u001b[0m\n\u001b[1;32m      6\u001b[0m         \u001b[0mfirst\u001b[0m \u001b[0;34m=\u001b[0m \u001b[0mfirst\u001b[0m \u001b[0;34m+\u001b[0m \u001b[0mval\u001b[0m\u001b[0;34m\u001b[0m\u001b[0m\n",
      "\u001b[0;31mNameError\u001b[0m: name 'd' is not defined"
     ]
    }
   ],
   "source": [
    "#if period is divided in half, the trend\n",
    "first = 0\n",
    "second = 0\n",
    "for key,val in d.iteritems():\n",
    "    if key < 2011:\n",
    "        first = first + val\n",
    "    else:\n",
    "        second = second + val\n",
    "print first, second"
   ]
  },
  {
   "cell_type": "code",
   "execution_count": 125,
   "metadata": {},
   "outputs": [
    {
     "name": "stdout",
     "output_type": "stream",
     "text": [
      "['7.0', '12.0', '6.0', '37.0', '28.0.1', '10.0', '43.0', '3.0.10', '16.0', '3.0.19', '43.0.1', '43.0.4', '3.5.2', '3.5.1', '38.1.0', '40.0.2', '40.0.3', '45.0.2', '45.0.1', '3.0.6', '3.0.7', '3.0.4', '1.5.0.12', '3.0.2', '3.0.3', '3.0.1', '3.0.9', '3.6', '3.5', '3.6.27', '3.0', '3.1', '2.0', '34.0.5', '2.0.0.12', '2.0.0.11', '2.0.0.14', '2.0.0.9', '2.0.0.8', '2.0.0.7', '2.0.0.6', '2.0.0.5', '2.0.0.4', '2.0.0.3', '2.0.0.1', '48.0.2', '27.0', '29.0.1', '37.0.1', '37.0.2', '1.5.0.10', '3.6.1', '3.6.2', '3.6.3', '3.6.7', '32.0', '33.0', '0.8', '42.0', '3.0.5', '19.0', '39.0', '8.0', '2', '30.0', '3.5.10', '41.0', '1.5.0.4', '1.5.0.7', '1.5.0.6', '1.5.0.1', '28.0', '41.0.2', '41.0.1', '1.5.0.9', '1.5.0.8', '47.0.1', '1.5', '1.0', '2.0 8', '0.1', '0.2', '1.8', '38.0', '39.0.3', '36.0.1', '36.0.3', '44.0.2', '36.0.4', '44.0.1', '4.0', '3.0beta5', '46.0.1']\n",
      "93\n"
     ]
    }
   ],
   "source": [
    "#trying to get unique initial versions to get their release dates\n",
    "v = []\n",
    "def versions(filename,year):\n",
    "    with open(filename) as csvDataFile:\n",
    "            csvReader = csv.reader(csvDataFile)\n",
    "            next(csvReader, None)\n",
    "            #d[year] = \n",
    "            for row in csvReader:\n",
    "                row[1] = row[1].strip()\n",
    "                if row[1] == '' or row[1] == '-':\n",
    "                    continue\n",
    "                v.append(row[1])\n",
    "versions(\"firefox2006.csv\",2006)\n",
    "versions(\"firefox2007.csv\",2007)\n",
    "versions(\"firefox2008.csv\",2008)\n",
    "versions(\"firefox2009.csv\",2009)\n",
    "versions(\"firefox2010.csv\",2010)\n",
    "versions(\"firefox2011.csv\",2011)\n",
    "versions(\"firefox2012.csv\",2012)\n",
    "versions(\"firefox2013.csv\",2013)\n",
    "versions(\"firefox2014.csv\",2014)\n",
    "versions(\"firefox2015.csv\",2015)\n",
    "versions(\"firefox2016.csv\",2016)\n",
    "temp = set(v)\n",
    "temp.remove(\"[[datetime.datetime(2011, 1, 6, 17, 44), datetime.datetime(2011, 1, 6, 17, 46), u'Canvas: WebGL', []]]\")\n",
    "v = list(temp)\n",
    "print v\n",
    "print(len(v))"
   ]
  },
  {
   "cell_type": "code",
   "execution_count": 126,
   "metadata": {},
   "outputs": [
    {
     "name": "stdout",
     "output_type": "stream",
     "text": [
      "93\n"
     ]
    }
   ],
   "source": [
    "dates = ['2011-09-27','2012-04-24','2011-08-16','2015-03-31','2014-03-24','2012-01-31','2015-12-15','2009-04-27','2012-10-09','2010-03-30','2015-12-18', \n",
    "        '2016-01-06','2009-08-03','2009-07-16','2015-07-02','2015-08-13','2015-08-27','2016-04-11','2016-03-16','2009-02-03',\n",
    "        '2009-03-04','2008-11-12','2007-05-30','2008-09-23','2008-09-26','2008-07-16','2009-04-21','2010-01-21','2009-06-30',\n",
    "        '2012-02-17','2008-06-17','2008-07-28','2006-10-24','2014-12-1','2008-02-07','2007-11-30','2008-04-16','2007-11-01',\n",
    "        '2007-10-18','2007-09-18', '2007-07-30', '2007-07-17', '2007-04-30', '2007-03-20', '2006-12-19', '2016-08-24', \n",
    "         '2014-02-04', '2014-05-09', '2015-04-03','2015-04-20', '2007-02-23', '2010-01-21', '2010-03-22', '2010-04-01',\n",
    "         '2010-07-20', '2014-09-02', '2014-10-14', '2004-02-09', '2015-11-03', '2008-12-16', '2013-02-19', '2015-07-02',\n",
    "         '2011-11-08', '2006-10-24', '2014-06-10', '2010-06-22', '2015-09-22', '2006-06-01', '2006-09-14', '2006-08-02',\n",
    "         '2006-02-01', '2014-03-18', '2015-10-15', '2015-09-30', '2006-12-19', '2006-11-07', '2016-06-28', '2005-11-29', \n",
    "         '2004-11-09', '2006-10-24', '2002-09-23', '2002-10-01', '2007-04-30', '2015-04-12', '2015-08-06', '2015-03-05', \n",
    "         '2015-03-20', '2016-02-11', '2015-03-21', '2016-02-08', '2011-03-22', '2008-04-02', '2016-04-03']\n",
    "print(len(dates))"
   ]
  },
  {
   "cell_type": "code",
   "execution_count": 139,
   "metadata": {},
   "outputs": [],
   "source": [
    "versionDict = {}\n",
    "for key,value in zip(v,dates):\n",
    "    value = datetime.strptime(value, '%Y-%m-%d')\n",
    "    versionDict[key] = value \n"
   ]
  },
  {
   "cell_type": "code",
   "execution_count": 128,
   "metadata": {},
   "outputs": [],
   "source": [
    "def save_obj(obj, name):\n",
    "    with open(name + '.pkl', 'wb') as f:\n",
    "        pickle.dump(obj, f, protocol=2)\n",
    "\n",
    "save_obj(versionDict, \"versiondict\")"
   ]
  },
  {
   "cell_type": "code",
   "execution_count": 129,
   "metadata": {},
   "outputs": [
    {
     "data": {
      "text/plain": [
       "93"
      ]
     },
     "execution_count": 129,
     "metadata": {},
     "output_type": "execute_result"
    }
   ],
   "source": [
    "len(temp)"
   ]
  },
  {
   "cell_type": "code",
   "execution_count": 130,
   "metadata": {
    "collapsed": true
   },
   "outputs": [],
   "source": [
    "#maps CVEs to their initial versions\n",
    "cveDict = {}\n",
    "def cveCreator(filename,year):\n",
    "    with open(filename) as csvDataFile:\n",
    "            csvReader = csv.reader(csvDataFile)\n",
    "            next(csvReader, None)\n",
    "            #d[year] = (0,0)\n",
    "            for row in csvReader:\n",
    "                row[1] = row[1].strip()\n",
    "                row[0] = row[0].strip()\n",
    "                #print row[0]\n",
    "                cveDict[row[0]] = row[1]\n",
    "cveCreator(\"firefox2006.csv\",2006)\n",
    "cveCreator(\"firefox2007.csv\",2007)\n",
    "cveCreator(\"firefox2008.csv\",2008)\n",
    "cveCreator(\"firefox2009.csv\",2009)\n",
    "cveCreator(\"firefox2010.csv\",2010)\n",
    "cveCreator(\"firefox2011.csv\",2011)\n",
    "cveCreator(\"firefox2012.csv\",2012)\n",
    "cveCreator(\"firefox2013.csv\",2013)\n",
    "cveCreator(\"firefox2014.csv\",2014)\n",
    "cveCreator(\"firefox2015.csv\",2015)\n",
    "cveCreator(\"firefox2016.csv\",2016)                "
   ]
  },
  {
   "cell_type": "code",
   "execution_count": 150,
   "metadata": {},
   "outputs": [
    {
     "name": "stdout",
     "output_type": "stream",
     "text": [
      "{3.5: 187, 2: 2535, 3: 215, 4: 252, 6: 0, 7: 0, 8: 28, 10: 4, 12: 4, 16: 1, 19: 75, 27: 0, 28: 0, 29: 0, 30: 26, 32: 6, 33: 3, 34: 4, 36: 0, 37: 0, 38: 1, 39: 0, 40: 0, 41: 1, 42: 2, 43: 1, 44: 1, 45: 0, 46: 7, 47: 1, 48: 1, 3.6: 194}\n"
     ]
    }
   ],
   "source": [
    "#mean time to report vulnerabilites\n",
    "dateDiffDict = {}\n",
    "for key,value in cve_to_date.iteritems():\n",
    "    key = key.encode('utf8')\n",
    "    if key in cveDict:\n",
    "        earlyVersion = cveDict[key]\n",
    "        if earlyVersion in versionDict:\n",
    "            releaseDateOfVersion = versionDict[earlyVersion]\n",
    "            difference = ((value - releaseDateOfVersion).total_seconds())/(24*3600)\n",
    "            if difference < 0:\n",
    "                difference = 0\n",
    "            \n",
    "            if('3.5' in earlyVersion):\n",
    "                earlyVersion = 3.5\n",
    "            elif '3.6' in earlyVersion:\n",
    "                earlyVersion = 3.6\n",
    "            else:\n",
    "                earlyVersion = int(earlyVersion.split('.')[0])\n",
    "            \n",
    "            if earlyVersion < foundation:\n",
    "                earlyVersion = foundation\n",
    "            #earlyVersion = earlyVersion.split('.')[0]\n",
    "            if earlyVersion in dateDiffDict:\n",
    "                dateDiffDict[earlyVersion].append(int(difference))\n",
    "            else:\n",
    "                dateDiffDict[earlyVersion] = [int(difference)]\n",
    "                \n",
    "for key,value in dateDiffDict.iteritems():\n",
    "    dateDiffDict[key] = sorted(value)\n",
    "\n",
    "dateDiffMean = {}\n",
    "for key,value in dateDiffDict.iteritems():\n",
    "    dateDiffMean[key] = int((np.mean(value)))\n",
    "\n",
    "# dateDiffMean[1] = round(((dateDiffMean[0] + dateDiffMean[1])/2),0)\n",
    "# dateDiffMean.pop(0)\n",
    "print dateDiffMean"
   ]
  },
  {
   "cell_type": "code",
   "execution_count": 154,
   "metadata": {},
   "outputs": [
    {
     "name": "stdout",
     "output_type": "stream",
     "text": [
      "[2, 3, 3.5, 3.6, 4, 6, 7, 8, 10, 12, 16, 19, 27, 28, 29, 30, 32, 33, 34, 36, 37, 38, 39, 40, 41, 42, 43, 44, 45, 46, 47, 48]\n",
      "[2535, 215, 187, 194, 252, 0, 0, 28, 4, 4, 1, 75, 0, 0, 0, 26, 6, 3, 4, 0, 0, 1, 0, 0, 1, 2, 1, 1, 0, 7, 1, 1]\n"
     ]
    },
    {
     "data": {
      "image/png": "[encoded data removed]",
      "text/plain": [
       "<matplotlib.figure.Figure at 0x10e5fc990>"
      ]
     },
     "metadata": {},
     "output_type": "display_data"
    }
   ],
   "source": [
    "#Plot for mean lifetime of vulerabilities\n",
    "#from pylab import *\n",
    "t = []\n",
    "s = []\n",
    "dateDiffMeanNew = sorted(dateDiffMean.items())\n",
    "for k,v in dateDiffMeanNew:\n",
    "    t.append(k)\n",
    "    s.append(v)\n",
    "#t = dateDiffMean.keys()\n",
    "#s = dateDiffMean.values()\n",
    "print t\n",
    "print s\n",
    "plt.figure(figsize=(70,10))\n",
    "plt.plot(t, s)\n",
    " \n",
    "plt.xlabel('Versions')\n",
    "plt.ylabel('Mean Vulnerlability lifetime (days)')\n",
    "plt.title('Python Line Chart: Plotting numbers')\n",
    "plt.grid(True)\n",
    "plt.xticks(t)\n",
    "plt.show()"
   ]
  },
  {
   "cell_type": "code",
   "execution_count": 161,
   "metadata": {},
   "outputs": [
    {
     "data": {
      "text/plain": [
       "{(2, 2): 34,\n",
       " (2, 3): 123,\n",
       " (2, 4): 172,\n",
       " (2, 5): 10,\n",
       " (2, 6): 1,\n",
       " (2, 7): 1,\n",
       " (2, 8): 5,\n",
       " (2, 9): 1,\n",
       " (2, 10): 7,\n",
       " (2, 13): 1,\n",
       " (2, 15): 32,\n",
       " (2, 16): 25,\n",
       " (2, 17): 35,\n",
       " (2, 18): 27,\n",
       " (2, 19): 14,\n",
       " (2, 20): 1,\n",
       " (2, 26): 13,\n",
       " (2, 27): 15,\n",
       " (2, 28): 19,\n",
       " (2, 29): 13,\n",
       " (2, 36): 18,\n",
       " (3, 4): 62,\n",
       " (3.5, 4): 49,\n",
       " (3.5, 5): 4,\n",
       " (3.6, 4): 26,\n",
       " (3.6, 5): 1,\n",
       " (3.6, 6): 1,\n",
       " (3.6, 7): 7,\n",
       " (3.6, 11): 4,\n",
       " (4, 5): 7,\n",
       " (4, 6): 9,\n",
       " (4, 7): 3,\n",
       " (4, 8): 2,\n",
       " (4, 9): 4,\n",
       " (4, 10): 10,\n",
       " (4, 12): 12,\n",
       " (4, 13): 9,\n",
       " (4, 14): 19,\n",
       " (6, 7): 1,\n",
       " (7, 8): 2,\n",
       " (8, 9): 2,\n",
       " (10, 11): 1,\n",
       " (12, 13): 2,\n",
       " (16, 17): 1,\n",
       " (19, 20): 13,\n",
       " (19, 21): 14,\n",
       " (19, 22): 17,\n",
       " (19, 23): 15,\n",
       " (19, 24): 19,\n",
       " (19, 25): 14,\n",
       " (19, 26): 1,\n",
       " (27, 28): 1,\n",
       " (28, 29): 3,\n",
       " (29, 30): 10,\n",
       " (30, 31): 14,\n",
       " (30, 32): 8,\n",
       " (30, 33): 12,\n",
       " (32, 33): 1,\n",
       " (33, 34): 11,\n",
       " (34, 35): 10,\n",
       " (36, 37): 18,\n",
       " (37, 38): 18,\n",
       " (38, 39): 19,\n",
       " (39, 40): 20,\n",
       " (40, 41): 30,\n",
       " (41, 42): 24,\n",
       " (41, 43): 1,\n",
       " (42, 43): 21,\n",
       " (43, 44): 18,\n",
       " (44, 45): 42,\n",
       " (45, 46): 13,\n",
       " (46, 47): 14,\n",
       " (47, 48): 24,\n",
       " (48, 49): 18}"
      ]
     },
     "execution_count": 161,
     "metadata": {},
     "output_type": "execute_result"
    }
   ],
   "source": [
    "d2 = {}\n",
    "p = 0\n",
    "def versionWiseTotal(filename):\n",
    "    with open(filename) as csvDataFile:\n",
    "            csvReader = csv.reader(csvDataFile)\n",
    "            next(csvReader, None)\n",
    "            for row in csvReader:\n",
    "                try:\n",
    "                    row[1] = row[1].strip()\n",
    "                    row[2] = row[2].strip()\n",
    "                    if row[1] == '' or row[1] == '-' or row[2] == '' or row[2] == '-':\n",
    "                        continue\n",
    "                    if('3.5' in row[1]):\n",
    "                        startVerSplit = 3.5\n",
    "                    elif '3.6' in row[1]:\n",
    "                        startVerSplit = 3.6\n",
    "                    else:\n",
    "                        startVerSplit = int(row[1].split('.')[0])\n",
    "                        \n",
    "                    endVerSplit = int(row[2].split('.')[0])+1\n",
    "                    #print row[1]\n",
    "                    if startVerSplit < foundation:\n",
    "                        startVerSplit = foundation\n",
    "                    if endVerSplit < foundation:\n",
    "                        endVerSplit = foundation\n",
    "                    if (startVerSplit,endVerSplit) in d2:\n",
    "                        d2[(startVerSplit,endVerSplit)] += 1\n",
    "                    else:\n",
    "                        d2[(startVerSplit,endVerSplit)] = 1\n",
    "                    p+=1\n",
    "                except Exception:\n",
    "                    continue\n",
    "\n",
    "files = ['firefox2016.csv','firefox2015.csv', 'firefox2014.csv', 'firefox2013.csv', 'firefox2012.csv', \n",
    "         'firefox2011.csv', 'firefox2010.csv', 'firefox2009.csv', 'firefox2008.csv', 'firefox2007.csv', \n",
    "         'firefox2006.csv']\n",
    "\n",
    "for file in files:\n",
    "    versionWiseTotal(file)\n",
    "    \n",
    "d2"
   ]
  },
  {
   "cell_type": "code",
   "execution_count": 162,
   "metadata": {},
   "outputs": [
    {
     "data": {
      "image/png": "[encoded data removed]",
      "text/plain": [
       "<matplotlib.figure.Figure at 0x116eda390>"
      ]
     },
     "metadata": {},
     "output_type": "display_data"
    }
   ],
   "source": [
    "x = []\n",
    "y = []\n",
    "count = []\n",
    "for key,val in d2.iteritems():\n",
    "    x.append(key[0])\n",
    "    y.append(key[1])\n",
    "    count.append(val)\n",
    "\n",
    "colors = (0,0,0)\n",
    "area = np.pi*3\n",
    " \n",
    "# Plot\n",
    "#plt.scatter(x, y, s=area, c=colors, alpha=0.5)\n",
    "#plt.title('Scatter plot pythonspot.com')\n",
    "#plt.xticks(x)\n",
    "#plt.yticks(y)\n",
    "#plt.xlabel('x')\n",
    "#plt.ylabel('y')\n",
    "\n",
    "fig, ax = plt.subplots()\n",
    "ax.scatter(x, y, s=area, c=colors, alpha=0.5)\n",
    "\n",
    "for i, txt in enumerate(count):\n",
    "    ax.annotate(txt, (x[i],y[i]))\n",
    "#fig.figure(figsize=(50,70))\n",
    "plt.xticks(x)\n",
    "plt.yticks(y)\n",
    "\n",
    "plt.show()"
   ]
  },
  {
   "cell_type": "code",
   "execution_count": 132,
   "metadata": {
    "collapsed": true
   },
   "outputs": [],
   "source": [
    "#failed attempt at finding duration of fixing\n",
    "d3 = {}\n",
    "def durationB(filename):\n",
    "    #print \"woof\"\n",
    "    with open(filename) as csvDataFile:\n",
    "            csvReader = csv.reader(csvDataFile)\n",
    "            next(csvReader, None)\n",
    "            #d[year] = 0\n",
    "            for row in csvReader:\n",
    "                #try:\n",
    "                bugs = row[3].replace('[','').split('],')\n",
    "                #lists = [map(int, s.replace(']','').split(',')) for s in bugs]\n",
    "                print bugs\n",
    "                    #print type(bugs)\n",
    "                    \n",
    "                #except Exception, e:\n",
    "                    #print Exception\n",
    "                    #continue\n",
    "files = ['firefox2016.csv','firefox2015.csv', 'firefox2014.csv', 'firefox2013.csv', 'firefox2012.csv',\n",
    "         'firefox2011.csv', 'firefox2010.csv', 'firefox2009.csv', 'firefox2008.csv', 'firefox2007.csv', \n",
    "         'firefox2006.csv']\n",
    "\n",
    "for file in files:\n",
    "   durationB(file)"
   ]
  },
  {
   "cell_type": "code",
   "execution_count": 163,
   "metadata": {},
   "outputs": [
    {
     "name": "stdout",
     "output_type": "stream",
     "text": [
      "50\n",
      "50\n"
     ]
    }
   ],
   "source": [
    "#years = [2007,2008,2009,2010,2011,2012,2013,2014,2015,2016]\n",
    "#lineOfCode = [2.989, 3.179, 4.212, 4.686, 5.405, 6.008, 7.779, 9.505, 11.394, 13.110]\n",
    "version = [2,3,3.5,3.6,4,5,6,7,8,9,10,11,12,13,14,15,16,17,18,19,20,21,22,23,24,25,26,27,28,29,\n",
    "           30,31,32,33,34,35,36,37,38,39,40,41,42,43,44,45,46,47,48,49]\n",
    "vuls = [2.97,3.941,4.294,4.686,5.474,5.396,5.518,5.535,5.729,5.964,6.008,6.424,6.444,7.179,7.179,7.331,7.659,7.665,\n",
    "        7.779,7.936,8.388,8.413,8.520,8.743,8.882,9.119,9.423,9.505,9.721,9.839,10.368,10.517,11.129,\n",
    "       11.192,11.302,11.394,11.479,11.591,11.785,12.092,12.241,12.588,12.879,12.958,13.110,13.2,13.35,\n",
    "        13.873,13.949,13.98]\n",
    "print len(vuls)\n",
    "print len(version)"
   ]
  },
  {
   "cell_type": "code",
   "execution_count": 164,
   "metadata": {},
   "outputs": [
    {
     "data": {
      "text/plain": [
       "{2: 2.97,\n",
       " 3: 0.97,\n",
       " 3.5: 0.35,\n",
       " 3.6: 0.39,\n",
       " 4: 0.79,\n",
       " 5: 0.08,\n",
       " 6: 0.12,\n",
       " 7: 0.02,\n",
       " 8: 0.19,\n",
       " 9: 0.24,\n",
       " 10: 0.04,\n",
       " 11: 0.42,\n",
       " 12: 0.02,\n",
       " 13: 0.74,\n",
       " 14: 0.0,\n",
       " 15: 0.15,\n",
       " 16: 0.33,\n",
       " 17: 0.01,\n",
       " 18: 0.11,\n",
       " 19: 0.16,\n",
       " 20: 0.45,\n",
       " 21: 0.03,\n",
       " 22: 0.11,\n",
       " 23: 0.22,\n",
       " 24: 0.14,\n",
       " 25: 0.24,\n",
       " 26: 0.3,\n",
       " 27: 0.08,\n",
       " 28: 0.22,\n",
       " 29: 0.12,\n",
       " 30: 0.53,\n",
       " 31: 0.15,\n",
       " 32: 0.61,\n",
       " 33: 0.06,\n",
       " 34: 0.11,\n",
       " 35: 0.09,\n",
       " 36: 0.08,\n",
       " 37: 0.11,\n",
       " 38: 0.19,\n",
       " 39: 0.31,\n",
       " 40: 0.15,\n",
       " 41: 0.35,\n",
       " 42: 0.29,\n",
       " 43: 0.08,\n",
       " 44: 0.15,\n",
       " 45: 0.09,\n",
       " 46: 0.15,\n",
       " 47: 0.52,\n",
       " 48: 0.08,\n",
       " 49: 0.03}"
      ]
     },
     "execution_count": 164,
     "metadata": {},
     "output_type": "execute_result"
    }
   ],
   "source": [
    "alltered_code = []\n",
    "for i in range(len(vuls)):\n",
    "    if i == 0:\n",
    "        alltered_code.append(vuls[i])\n",
    "    else:\n",
    "        alltered_code.append(round(abs(vuls[i] - vuls[i-1]),2))\n",
    "\n",
    "codeSize = {}\n",
    "for x in zip(version, alltered_code):\n",
    "    codeSize[x[0]] = x[1]\n",
    "codeSize"
   ]
  },
  {
   "cell_type": "code",
   "execution_count": 172,
   "metadata": {},
   "outputs": [
    {
     "data": {
      "text/plain": [
       "{2: 567,\n",
       " 3: 62,\n",
       " 3.5: 53,\n",
       " 3.6: 39,\n",
       " 4: 75,\n",
       " 5: 0,\n",
       " 6: 1,\n",
       " 7: 2,\n",
       " 8: 2,\n",
       " 9: 0,\n",
       " 10: 1,\n",
       " 11: 0,\n",
       " 12: 2,\n",
       " 13: 0,\n",
       " 14: 0,\n",
       " 15: 0,\n",
       " 16: 1,\n",
       " 17: 0,\n",
       " 18: 0,\n",
       " 19: 93,\n",
       " 20: 0,\n",
       " 21: 0,\n",
       " 22: 0,\n",
       " 23: 0,\n",
       " 24: 0,\n",
       " 25: 0,\n",
       " 26: 0,\n",
       " 27: 1,\n",
       " 28: 3,\n",
       " 29: 10,\n",
       " 30: 34,\n",
       " 31: 0,\n",
       " 32: 1,\n",
       " 33: 11,\n",
       " 34: 10,\n",
       " 35: 0,\n",
       " 36: 18,\n",
       " 37: 18,\n",
       " 38: 19,\n",
       " 39: 20,\n",
       " 40: 30,\n",
       " 41: 25,\n",
       " 42: 21,\n",
       " 43: 18,\n",
       " 44: 42,\n",
       " 45: 13,\n",
       " 46: 14,\n",
       " 47: 24,\n",
       " 48: 18,\n",
       " 49: 0}"
      ]
     },
     "execution_count": 172,
     "metadata": {},
     "output_type": "execute_result"
    }
   ],
   "source": [
    "d2\n",
    "versionWiseVul = {}\n",
    "for key,val in d2.iteritems():\n",
    "    x,y = key\n",
    "    if x in versionWiseVul:\n",
    "        versionWiseVul[x] += val\n",
    "    else:\n",
    "        versionWiseVul[x] = val\n",
    "for ver in version:\n",
    "    if ver not in versionWiseVul:\n",
    "        versionWiseVul[ver] = 0\n",
    "versionWiseVul\n",
    "#versionWiseVul[2] += versionWiseVul[1]\n",
    "#versionWiseVul.pop(1)\n",
    "versionWiseVul"
   ]
  },
  {
   "cell_type": "code",
   "execution_count": 173,
   "metadata": {},
   "outputs": [
    {
     "data": {
      "text/plain": [
       "[(2, 567, 2.97, 190.909),\n",
       " (3, 62, 0.97, 63.918),\n",
       " (3.5, 53, 0.35, 151.429),\n",
       " (3.6, 39, 0.39, 100.0),\n",
       " (4, 75, 0.79, 94.937),\n",
       " (5, 0, 0.08, 0.0),\n",
       " (6, 1, 0.12, 8.333),\n",
       " (7, 2, 0.02, 100.0),\n",
       " (8, 2, 0.19, 10.526),\n",
       " (9, 0, 0.24, 0.0),\n",
       " (10, 1, 0.04, 25.0),\n",
       " (11, 0, 0.42, 0.0),\n",
       " (12, 2, 0.02, 100.0),\n",
       " (13, 0, 0.74, 0.0),\n",
       " (14, 0, 0.0, 0.0),\n",
       " (15, 0, 0.15, 0.0),\n",
       " (16, 1, 0.33, 3.03),\n",
       " (17, 0, 0.01, 0.0),\n",
       " (18, 0, 0.11, 0.0),\n",
       " (19, 93, 0.16, 581.25),\n",
       " (20, 0, 0.45, 0.0),\n",
       " (21, 0, 0.03, 0.0),\n",
       " (22, 0, 0.11, 0.0),\n",
       " (23, 0, 0.22, 0.0),\n",
       " (24, 0, 0.14, 0.0),\n",
       " (25, 0, 0.24, 0.0),\n",
       " (26, 0, 0.3, 0.0),\n",
       " (27, 1, 0.08, 12.5),\n",
       " (28, 3, 0.22, 13.636),\n",
       " (29, 10, 0.12, 83.333),\n",
       " (30, 34, 0.53, 64.151),\n",
       " (31, 0, 0.15, 0.0),\n",
       " (32, 1, 0.61, 1.639),\n",
       " (33, 11, 0.06, 183.333),\n",
       " (34, 10, 0.11, 90.909),\n",
       " (35, 0, 0.09, 0.0),\n",
       " (36, 18, 0.08, 225.0),\n",
       " (37, 18, 0.11, 163.636),\n",
       " (38, 19, 0.19, 100.0),\n",
       " (39, 20, 0.31, 64.516),\n",
       " (40, 30, 0.15, 200.0),\n",
       " (41, 25, 0.35, 71.429),\n",
       " (42, 21, 0.29, 72.414),\n",
       " (43, 18, 0.08, 225.0),\n",
       " (44, 42, 0.15, 280.0),\n",
       " (45, 13, 0.09, 144.444),\n",
       " (46, 14, 0.15, 93.333),\n",
       " (47, 24, 0.52, 46.154),\n",
       " (48, 18, 0.08, 225.0),\n",
       " (49, 0, 0.03, 0.0)]"
      ]
     },
     "execution_count": 173,
     "metadata": {},
     "output_type": "execute_result"
    }
   ],
   "source": [
    "display_mloc = []\n",
    "for key, value in versionWiseVul.items():\n",
    "    if codeSize[key] == 0.0:\n",
    "        val = 0.0\n",
    "    else:\n",
    "        val = round(value/codeSize[key], 3)\n",
    "    display_mloc.append((key, value, codeSize[key], val))\n",
    "    \n",
    "sorted(display_mloc, key=lambda x: x[0])"
   ]
  },
  {
   "cell_type": "code",
   "execution_count": 174,
   "metadata": {},
   "outputs": [
    {
     "data": {
      "image/png": "[encoded data removed]",
      "text/plain": [
       "<matplotlib.figure.Figure at 0x11bd0db90>"
      ]
     },
     "metadata": {},
     "output_type": "display_data"
    }
   ],
   "source": [
    "x = vuls\n",
    "y = versionWiseVul.values()\n",
    "colors = (0,0,0)\n",
    "plt.scatter(x, y, s=area, c=colors, alpha=0.5)\n",
    "plt.title('Scatter plot pythonspot.com')\n",
    "plt.xlabel('x')\n",
    "plt.ylabel('y')\n",
    "plt.show()"
   ]
  },
  {
   "cell_type": "code",
   "execution_count": 171,
   "metadata": {},
   "outputs": [
    {
     "name": "stdout",
     "output_type": "stream",
     "text": [
      "50\n",
      "32\n"
     ]
    }
   ],
   "source": [
    "print len(vuls)\n",
    "print len(versionWiseVul)"
   ]
  },
  {
   "cell_type": "code",
   "execution_count": null,
   "metadata": {
    "collapsed": true
   },
   "outputs": [],
   "source": []
  }
 ],
 "metadata": {
  "kernelspec": {
   "display_name": "Python 2",
   "language": "python",
   "name": "python2"
  }
 },
 "nbformat": 4,
 "nbformat_minor": 2
}
