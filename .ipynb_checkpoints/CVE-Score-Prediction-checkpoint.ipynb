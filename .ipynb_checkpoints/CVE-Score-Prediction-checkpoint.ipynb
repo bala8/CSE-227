{
 "cells": [
  {
   "cell_type": "code",
   "execution_count": 2,
   "metadata": {},
   "outputs": [],
   "source": [
    "from bs4 import BeautifulSoup\n",
    "import re\n",
    "import requests\n",
    "import operator\n",
    "import threading\n",
    "from threading import Thread\n",
    "import pickle\n",
    "from datetime import datetime\n",
    "from sklearn import svm\n",
    "import random\n",
    "import numpy as np"
   ]
  },
  {
   "cell_type": "code",
   "execution_count": 3,
   "metadata": {},
   "outputs": [
    {
     "data": {
      "text/plain": [
       "'/Users/bala/Desktop/227/code/CSE-227/cve-data/'"
      ]
     },
     "execution_count": 3,
     "metadata": {},
     "output_type": "execute_result"
    }
   ],
   "source": [
    "file_base = %pwd\n",
    "file_base += \"/cve-data/\"\n",
    "file_base"
   ]
  },
  {
   "cell_type": "code",
   "execution_count": 4,
   "metadata": {},
   "outputs": [],
   "source": [
    "def label_gen(score):\n",
    "    if score == 0.0:\n",
    "        return 0 #\"None\"\n",
    "    elif score >= 0.1 and score <= 3.9:\n",
    "        return 1 #\"Low\"\n",
    "    elif score >= 4.0 and score <= 6.9:\n",
    "        return 2 #\"Medium\"\n",
    "    elif score >= 7.0 and score <= 8.9:\n",
    "        return 3 #\"High\"\n",
    "    else:\n",
    "        return 4 #\"Critical\"\n",
    "\n",
    "def exploitConv(num):\n",
    "    if num == '':\n",
    "        return 0\n",
    "    else:\n",
    "        return int(num)\n",
    "\n",
    "vul_types = []\n",
    "def vulConv(name):\n",
    "    if name in vul_types:\n",
    "        return vul_types.index(name)\n",
    "    else:\n",
    "        vul_types.append(name)\n",
    "        return len(vul_types)-1\n",
    "\n",
    "gain_type = []\n",
    "def gainConv(name):\n",
    "    if name in gain_type:\n",
    "        return gain_type.index(name)\n",
    "    else:\n",
    "        gain_type.append(name)\n",
    "        return len(gain_type)-1\n",
    "\n",
    "acc_type = []\n",
    "def accConv(name):\n",
    "    if name in acc_type:\n",
    "        return acc_type.index(name)\n",
    "    else:\n",
    "        acc_type.append(name)\n",
    "        return len(acc_type)-1\n",
    "    \n",
    "com_type = []\n",
    "def comConv(name):\n",
    "    if name in com_type:\n",
    "        return com_type.index(name)\n",
    "    else:\n",
    "        com_type.append(name)\n",
    "        return len(com_type)-1\n",
    "    \n",
    "conf_type = []\n",
    "def confConv(name):\n",
    "    if name in conf_type:\n",
    "        return conf_type.index(name)\n",
    "    else:\n",
    "        conf_type.append(name)\n",
    "        return len(conf_type)-1\n",
    "    \n",
    "inte_type = []\n",
    "def inteConv(name):\n",
    "    if name in inte_type:\n",
    "        return inte_type.index(name)\n",
    "    else:\n",
    "        inte_type.append(name)\n",
    "        return len(inte_type)-1"
   ]
  },
  {
   "cell_type": "raw",
   "metadata": {},
   "source": [
    "CVE Scores chart: https://nvd.nist.gov/vuln-metrics\n",
    "None\t 0.0\n",
    "Low\t     0.1-3.9\n",
    "Medium\t 4.0-6.9\n",
    "High\t 7.0-8.9\n",
    "Critical 9.0-10.0"
   ]
  },
  {
   "cell_type": "code",
   "execution_count": 28,
   "metadata": {},
   "outputs": [],
   "source": [
    "T_X = []\n",
    "T_Y = []\n",
    "\n",
    "file = \"download (\"\n",
    "for i in range(0, 29):\n",
    "    file_path = file_base + file + str(i) + \").tsv\"\n",
    "    with open(file_path) as f:\n",
    "        contents = f.readlines()\n",
    "        for line in contents[1:]:\n",
    "            words = line.split('\\t')\n",
    "            # noOfExpolits, vulnerabilityType, \n",
    "            # gainedAccessLevel, access, complexity, \n",
    "            # confidentiallyImpact, integrityImpact, descriptionLength\n",
    "            entry = np.array([exploitConv(words[3]), vulConv(words[4]),\n",
    "                              gainConv(words[8]), accConv(words[9]), comConv(words[10]), \n",
    "                              confConv(words[12]), inteConv(words[13]), len(words[14])])\n",
    "            T_X.append(entry)\n",
    "            T_Y.append(np.array([label_gen(float(words[7]))]))"
   ]
  },
  {
   "cell_type": "code",
   "execution_count": 29,
   "metadata": {},
   "outputs": [
    {
     "name": "stdout",
     "output_type": "stream",
     "text": [
      "1438 1438\n"
     ]
    }
   ],
   "source": [
    "# randomamize the dataset\n",
    "temp = list(zip(T_X, T_Y))\n",
    "random.shuffle(temp)\n",
    "X, Y = zip(*temp)\n",
    "print(len(X), len(Y))"
   ]
  },
  {
   "cell_type": "code",
   "execution_count": 30,
   "metadata": {},
   "outputs": [],
   "source": [
    "# creating train and test split\n",
    "train_X = X[1100:]\n",
    "train_Y = Y[1100:]\n",
    "\n",
    "test_X = X[:1100]\n",
    "test_Y = Y[:1100]\n"
   ]
  },
  {
   "cell_type": "code",
   "execution_count": 39,
   "metadata": {},
   "outputs": [
    {
     "name": "stdout",
     "output_type": "stream",
     "text": [
      "SVM Accuracy: 0.919090909091\n",
      "Confusion matrix:\n",
      "[[  3  33   0   0]\n",
      " [ 13 499  20   3]\n",
      " [  0  13 121   7]\n",
      " [  0   0   0 388]]\n"
     ]
    },
    {
     "name": "stderr",
     "output_type": "stream",
     "text": [
      "/usr/local/lib/python3.6/site-packages/sklearn/utils/validation.py:578: DataConversionWarning: A column-vector y was passed when a 1d array was expected. Please change the shape of y to (n_samples, ), for example using ravel().\n",
      "  y = column_or_1d(y, warn=True)\n"
     ]
    }
   ],
   "source": [
    "from sklearn.svm import LinearSVC\n",
    "from sklearn.metrics import confusion_matrix\n",
    "\n",
    "# training a linear SVM classifier\n",
    "svm_model_linear = LinearSVC().fit(train_X, train_Y)\n",
    "svm_predictions = svm_model_linear.predict(test_X)\n",
    " \n",
    "# model accuracy for X_test  \n",
    "accuracy = svm_model_linear.score(test_X, test_Y)\n",
    "\n",
    "# creating a confusion matrix\n",
    "cm = confusion_matrix(test_Y, svm_predictions)\n",
    "\n",
    "print(\"SVM Accuracy: \" + str(accuracy))\n",
    "print(\"Confusion matrix:\")\n",
    "print(cm)"
   ]
  },
  {
   "cell_type": "code",
   "execution_count": 40,
   "metadata": {},
   "outputs": [
    {
     "name": "stdout",
     "output_type": "stream",
     "text": [
      "Confusion matrix:\n",
      "[[ 26  10   0   0]\n",
      " [  3 527   5   0]\n",
      " [  0  11 129   1]\n",
      " [  0   0   0 388]]\n"
     ]
    }
   ],
   "source": [
    "from sklearn.tree import DecisionTreeClassifier\n",
    "dtree_model = DecisionTreeClassifier(max_depth = 4).fit(train_X, train_Y)\n",
    "dtree_predictions = dtree_model.predict(test_X)\n",
    " \n",
    "# creating a confusion matrix\n",
    "cm = confusion_matrix(test_Y, dtree_predictions)\n",
    "print(\"Confusion matrix:\")\n",
    "print(cm)"
   ]
  },
  {
   "cell_type": "code",
   "execution_count": 44,
   "metadata": {},
   "outputs": [
    {
     "name": "stdout",
     "output_type": "stream",
     "text": [
      "KNN Accuracy: 0.870909090909\n",
      "Confusion matrix:\n",
      "[[ 19  17   0   0]\n",
      " [  7 485  40   3]\n",
      " [  0  50  80  11]\n",
      " [  0  14   0 374]]\n"
     ]
    },
    {
     "name": "stderr",
     "output_type": "stream",
     "text": [
      "/usr/local/lib/python3.6/site-packages/ipykernel_launcher.py:3: DataConversionWarning: A column-vector y was passed when a 1d array was expected. Please change the shape of y to (n_samples, ), for example using ravel().\n",
      "  This is separate from the ipykernel package so we can avoid doing imports until\n"
     ]
    }
   ],
   "source": [
    "# training a KNN classifier\n",
    "from sklearn.neighbors import KNeighborsClassifier\n",
    "knn = KNeighborsClassifier(n_neighbors = 6).fit(train_X, train_Y)\n",
    " \n",
    "# accuracy on X_test\n",
    "accuracy = knn.score(test_X, test_Y)\n",
    "print(\"KNN Accuracy: \" + str(accuracy))\n",
    " \n",
    "# creating a confusion matrix\n",
    "knn_predictions = knn.predict(test_X) \n",
    "cm = confusion_matrix(test_Y, knn_predictions)\n",
    "print(\"Confusion matrix:\")\n",
    "print(cm)"
   ]
  },
  {
   "cell_type": "code",
   "execution_count": 45,
   "metadata": {},
   "outputs": [
    {
     "name": "stdout",
     "output_type": "stream",
     "text": [
      "Naive Bayes Accuracy: 0.929090909091\n",
      "[[ 25  11   0   0]\n",
      " [  3 488  44   0]\n",
      " [  0  14 121   6]\n",
      " [  0   0   0 388]]\n"
     ]
    },
    {
     "name": "stderr",
     "output_type": "stream",
     "text": [
      "/usr/local/lib/python3.6/site-packages/sklearn/utils/validation.py:578: DataConversionWarning: A column-vector y was passed when a 1d array was expected. Please change the shape of y to (n_samples, ), for example using ravel().\n",
      "  y = column_or_1d(y, warn=True)\n"
     ]
    }
   ],
   "source": [
    "# training a Naive Bayes classifier\n",
    "from sklearn.naive_bayes import GaussianNB\n",
    "gnb = GaussianNB().fit(train_X, train_Y)\n",
    "gnb_predictions = gnb.predict(test_X)\n",
    " \n",
    "# accuracy on X_test\n",
    "accuracy = gnb.score(test_X, test_Y)\n",
    "print(\"Naive Bayes Accuracy: \" + str(accuracy))\n",
    " \n",
    "# creating a confusion matrix\n",
    "cm = confusion_matrix(test_Y, gnb_predictions)\n",
    "print(cm)"
   ]
  }
 ],
 "metadata": {
  "kernelspec": {
   "display_name": "Python 3",
   "language": "python",
   "name": "python3"
  },
  "language_info": {
   "codemirror_mode": {
    "name": "ipython",
    "version": 3
   },
   "file_extension": ".py",
   "mimetype": "text/x-python",
   "name": "python",
   "nbconvert_exporter": "python",
   "pygments_lexer": "ipython3",
   "version": "3.6.3"
  }
 },
 "nbformat": 4,
 "nbformat_minor": 2
}
