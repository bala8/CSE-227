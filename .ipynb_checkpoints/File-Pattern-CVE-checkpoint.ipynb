{
 "cells": [
  {
   "cell_type": "code",
   "execution_count": 19,
   "metadata": {},
   "outputs": [],
   "source": [
    "from bs4 import BeautifulSoup\n",
    "import re\n",
    "import requests"
   ]
  },
  {
   "cell_type": "code",
   "execution_count": 14,
   "metadata": {},
   "outputs": [
    {
     "name": "stdout",
     "output_type": "stream",
     "text": [
      "total 24\r\n",
      "-rw-r--r--   1 bala  staff  3480 Nov 18 12:36 File-Pattern-CVE.ipynb\r\n",
      "-rw-r--r--   1 bala  staff  2379 Nov 18 11:54 scrape.py\r\n",
      "-rw-r--r--   1 bala  staff    36 Nov 18 08:54 README.md\r\n",
      "drwxr-xr-x  31 bala  staff   992 Nov 15 22:10 \u001b[34mcve-data\u001b[m\u001b[m/\r\n"
     ]
    }
   ],
   "source": [
    "%ls -lt"
   ]
  },
  {
   "cell_type": "code",
   "execution_count": 15,
   "metadata": {},
   "outputs": [
    {
     "data": {
      "text/plain": [
       "'/Users/bala/Desktop/227/code/CSE-227/cve-data/'"
      ]
     },
     "execution_count": 15,
     "metadata": {},
     "output_type": "execute_result"
    }
   ],
   "source": [
    "file_base = %pwd\n",
    "file_base += \"/cve-data/\"\n",
    "file_base"
   ]
  },
  {
   "cell_type": "code",
   "execution_count": 68,
   "metadata": {},
   "outputs": [],
   "source": [
    "CVE_IDS = []\n",
    "file = \"download (\"\n",
    "for i in range(0,29):\n",
    "    file_path = file_base + file + str(i) + \").tsv\"\n",
    "    with open(file_path) as f:\n",
    "        contents = f.readlines()\n",
    "        for line in contents[1:]:\n",
    "            words = line.split('\\t')\n",
    "            CVE_IDS.append(words[1])"
   ]
  },
  {
   "cell_type": "code",
   "execution_count": 71,
   "metadata": {},
   "outputs": [
    {
     "name": "stdout",
     "output_type": "stream",
     "text": [
      "1233\n"
     ]
    }
   ],
   "source": [
    "CVE_TO_BUGID = dict()\n",
    "\n",
    "for cve in CVE_IDS:\n",
    "    url = \"http://www.cvedetails.com/cve/\" + cve + \"/\"\n",
    "    hdr = {'User-Agent': 'Mozilla/5.0'}\n",
    "    html = requests.get(url)\n",
    "    soup = BeautifulSoup(html.text, \"html.parser\")\n",
    "    \n",
    "    table = soup.find(\"table\", {\"id\": \"vulnrefstable\"})\n",
    "    a_tags = table.find_all('a')\n",
    "    for a in a_tags:\n",
    "        if \"bugzilla\" in a['href']:\n",
    "            if cve in CVE_TO_BUGID:\n",
    "                CVE_TO_BUGID[cve].append(a['href'].split(\"=\")[1])\n",
    "            else:\n",
    "                CVE_TO_BUGID[cve] = [a['href'].split(\"=\")[1]]\n",
    "\n",
    "# some CVE entries don't have bugzilla links\n",
    "print(len(CVE_TO_BUGID))"
   ]
  },
  {
   "cell_type": "code",
   "execution_count": null,
   "metadata": {},
   "outputs": [],
   "source": [
    "FILE_FREQUENCY = dict()\n",
    "\n",
    "for key_cve, value_bugs in CVE_TO_BUGID.items():\n",
    "    for bug in value_bugs:\n",
    "        s_url = \"https://www.openhub.net/p/firefox/commits?query=\"+ str(bug)\n",
    "        s_hdr = {'User-Agent': 'Mozilla/5.0'}\n",
    "        s_html = requests.get(s_url)\n",
    "        s_soup = BeautifulSoup(s_html.text, \"html.parser\")\n",
    "\n",
    "        tags = s_soup('a')\n",
    "        for t in tags:\n",
    "            l = t.get('href', None)\n",
    "            if l != None:\n",
    "                commit = re.findall(\"commits/[0-9]+\", l)\n",
    "                if not commit:\n",
    "                    continue\n",
    "                t_url = \"https://www.openhub.net/p/firefox/commits/\" + commit[0].split(\"/\")[1]\n",
    "                t_req = urllib.request.Request(t_url, headers={'User-Agent': 'Mozilla/5.0'})\n",
    "                t_html = urllib.request.urlopen(t_req).read()\n",
    "                t_soup = BeautifulSoup(t_html, \"lxml\")\n",
    "                rows = t_soup.findAll('tr', {'class': 'odd nohover'})\n",
    "                if rows != []:\n",
    "                    for row in rows:\n",
    "                        file = row.find_all('td')[0].contents[0].strip()\n",
    "                        if file in FILE_FREQUENCY:\n",
    "                            FILE_FREQUENCY[file] += 1\n",
    "                        else:\n",
    "                            FILE_FREQUENCY[file] = 1\n",
    "FILE_FREQUENCY"
   ]
  },
  {
   "cell_type": "code",
   "execution_count": null,
   "metadata": {},
   "outputs": [],
   "source": []
  }
 ],
 "metadata": {
  "kernelspec": {
   "display_name": "Python 3",
   "language": "python",
   "name": "python3"
  },
  "language_info": {
   "codemirror_mode": {
    "name": "ipython",
    "version": 3
   },
   "file_extension": ".py",
   "mimetype": "text/x-python",
   "name": "python",
   "nbconvert_exporter": "python",
   "pygments_lexer": "ipython3",
   "version": "3.6.3"
  }
 },
 "nbformat": 4,
 "nbformat_minor": 2
}
