{
 "cells": [
  {
   "cell_type": "code",
   "execution_count": 1,
   "metadata": {},
   "outputs": [],
   "source": [
    "from bs4 import BeautifulSoup\n",
    "import re\n",
    "import requests\n",
    "import operator\n",
    "import pickle\n",
    "from datetime import datetime\n",
    "import numpy as np"
   ]
  },
  {
   "cell_type": "code",
   "execution_count": 2,
   "metadata": {},
   "outputs": [
    {
     "data": {
      "text/plain": [
       "'/Users/bala/Desktop/227/code/CSE-227/cve-data/'"
      ]
     },
     "execution_count": 2,
     "metadata": {},
     "output_type": "execute_result"
    }
   ],
   "source": [
    "file_base = %pwd\n",
    "file_base += \"/cve-data/\"\n",
    "file_base"
   ]
  },
  {
   "cell_type": "code",
   "execution_count": 3,
   "metadata": {},
   "outputs": [],
   "source": [
    "CVE_IDS = []\n",
    "file = \"download (\"\n",
    "for i in range(0,29):\n",
    "    file_path = file_base + file + str(i) + \").tsv\"\n",
    "    with open(file_path) as f:\n",
    "        contents = f.readlines()\n",
    "        for line in contents[1:]:\n",
    "            words = line.split('\\t')\n",
    "            CVE_IDS.append(words[1])"
   ]
  },
  {
   "cell_type": "code",
   "execution_count": 5,
   "metadata": {},
   "outputs": [],
   "source": [
    "def save_obj(obj, name):\n",
    "    with open(name + '.pkl', 'wb') as f:\n",
    "        pickle.dump(obj, f, protocol=2)\n",
    "\n",
    "def load_obj(name):\n",
    "    with open(name + '.pkl', 'rb') as f:\n",
    "        return pickle.load(f)"
   ]
  },
  {
   "cell_type": "code",
   "execution_count": 6,
   "metadata": {},
   "outputs": [],
   "source": [
    "CVE_TO_BUGID = load_obj(\"cve_to_bugzilla_links\")"
   ]
  },
  {
   "cell_type": "code",
   "execution_count": null,
   "metadata": {},
   "outputs": [
    {
     "name": "stdout",
     "output_type": "stream",
     "text": [
      "CVE-2016-5284 1\n",
      "CVE-2016-5283 1\n"
     ]
    }
   ],
   "source": [
    "CVE_TO_MAXATTACHMENTDATE = {}\n",
    "\n",
    "for key_cve, value_bugs in CVE_TO_BUGID.items():\n",
    "    print(key_cve, len(value_bugs))\n",
    "    main_date = None\n",
    "    for bug in value_bugs:\n",
    "        s_url = bug\n",
    "        s_hdr = {'User-Agent': 'Mozilla/5.0'}\n",
    "        s_html = requests.get(s_url)\n",
    "        soupBugzilla = BeautifulSoup(s_html.text, \"html.parser\")\n",
    "        \n",
    "        endDate = soupBugzilla.find(\"span\", attrs={\"id\": \"field-value-delta_ts\"})\n",
    "        if endDate != None:\n",
    "            endDate = endDate.find(\"span\", attrs={\"class\": \"rel-time\"})[\"title\"].strip()\t\n",
    "            end_datetime = datetime.strptime(endDate, '%Y-%m-%d %H:%M %Z')\n",
    "        else:\n",
    "            end_datetime = None\n",
    "        #print end_datetime\n",
    "        h = soupBugzilla.find(\"table\", attrs={\"id\" : \"attachments\"})\n",
    "        if h != None:\n",
    "            temp = h.find_all('span', attrs={\"class\": \"rel-time\"})\n",
    "            maxDate = datetime.strptime(temp[0][\"title\"], '%Y-%m-%d %H:%M %Z')\n",
    "            for s in temp:\n",
    "                attach_datetime = datetime.strptime(s[\"title\"], '%Y-%m-%d %H:%M %Z')\n",
    "                if attach_datetime > maxDate:\n",
    "                    maxDate = attach_datetime\n",
    "            end_datetime = maxDate\n",
    "            \n",
    "        if main_date == None:\n",
    "            main_date = end_datetime\n",
    "        else:\n",
    "            main_date = max(main_date, end_datetime)\n",
    "            \n",
    "    CVE_TO_MAXATTACHMENTDATE[key_cve] = main_date\n",
    "        \n",
    "        "
   ]
  },
  {
   "cell_type": "code",
   "execution_count": null,
   "metadata": {},
   "outputs": [],
   "source": [
    "CVE_TO_MAXATTACHMENTDATE"
   ]
  }
 ],
 "metadata": {
  "kernelspec": {
   "display_name": "Python 3",
   "language": "python",
   "name": "python3"
  },
  "language_info": {
   "codemirror_mode": {
    "name": "ipython",
    "version": 3
   },
   "file_extension": ".py",
   "mimetype": "text/x-python",
   "name": "python",
   "nbconvert_exporter": "python",
   "pygments_lexer": "ipython3",
   "version": "3.6.3"
  }
 },
 "nbformat": 4,
 "nbformat_minor": 2
}
