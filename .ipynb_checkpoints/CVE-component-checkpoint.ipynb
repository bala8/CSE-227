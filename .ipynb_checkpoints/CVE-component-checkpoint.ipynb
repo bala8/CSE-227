{
 "cells": [
  {
   "cell_type": "code",
   "execution_count": 1,
   "metadata": {},
   "outputs": [],
   "source": [
    "from bs4 import BeautifulSoup\n",
    "import re\n",
    "import requests\n",
    "import operator\n",
    "import threading\n",
    "from threading import Thread\n",
    "import pickle"
   ]
  },
  {
   "cell_type": "code",
   "execution_count": 2,
   "metadata": {},
   "outputs": [
    {
     "data": {
      "text/plain": [
       "'/Users/bala/Desktop/227/code/CSE-227/cve-data/'"
      ]
     },
     "execution_count": 2,
     "metadata": {},
     "output_type": "execute_result"
    }
   ],
   "source": [
    "file_base = %pwd\n",
    "file_base += \"/cve-data/\"\n",
    "file_base"
   ]
  },
  {
   "cell_type": "code",
   "execution_count": 3,
   "metadata": {},
   "outputs": [],
   "source": [
    "CVE_IDS = []\n",
    "file = \"download (\"\n",
    "for i in range(0,29):\n",
    "    file_path = file_base + file + str(i) + \").tsv\"\n",
    "    with open(file_path) as f:\n",
    "        contents = f.readlines()\n",
    "        for line in contents[1:]:\n",
    "            words = line.split('\\t')\n",
    "            CVE_IDS.append(words[1])"
   ]
  },
  {
   "cell_type": "code",
   "execution_count": 11,
   "metadata": {},
   "outputs": [
    {
     "name": "stdout",
     "output_type": "stream",
     "text": [
      "1233\n"
     ]
    }
   ],
   "source": [
    "CVE_TO_BUGID = dict()\n",
    "\n",
    "for cve in CVE_IDS:\n",
    "    url = \"http://www.cvedetails.com/cve/\" + cve + \"/\"\n",
    "    hdr = {'User-Agent': 'Mozilla/5.0'}\n",
    "    html = requests.get(url)\n",
    "    soup = BeautifulSoup(html.text, \"html.parser\")\n",
    "    \n",
    "    table = soup.find(\"table\", {\"id\": \"vulnrefstable\"})\n",
    "    a_tags = table.find_all('a')\n",
    "    for a in a_tags:\n",
    "        if \"bugzilla\" in a['href']:\n",
    "            if cve in CVE_TO_BUGID:\n",
    "                CVE_TO_BUGID[cve].append(a['href'])\n",
    "            else:\n",
    "                CVE_TO_BUGID[cve] = [a['href']]\n",
    "\n",
    "# some CVE entries don't have bugzilla links\n",
    "print(len(CVE_TO_BUGID))"
   ]
  },
  {
   "cell_type": "code",
   "execution_count": 14,
   "metadata": {},
   "outputs": [],
   "source": [
    "def save_obj(obj, name):\n",
    "    with open(name + '.pkl', 'wb') as f:\n",
    "        pickle.dump(obj, f, pickle.HIGHEST_PROTOCOL)\n",
    "\n",
    "def load_obj(name):\n",
    "    with open(name + '.pkl', 'rb') as f:\n",
    "        return pickle.load(f)"
   ]
  },
  {
   "cell_type": "code",
   "execution_count": 16,
   "metadata": {},
   "outputs": [],
   "source": [
    "#storing the dict\n",
    "save_obj(CVE_TO_BUGID, \"cve_to_bugzilla_links\")"
   ]
  },
  {
   "cell_type": "code",
   "execution_count": null,
   "metadata": {},
   "outputs": [],
   "source": [
    "for key_cve, value_links in CVE_TO_BUGID.items():\n",
    "    for l in value_links:\n",
    "        s_url = l\n",
    "        s_hdr = {'User-Agent': 'Mozilla/5.0'}\n",
    "        s_html = requests.get(s_url)\n",
    "        s_soup = BeautifulSoup(s_html.text, \"html.parser\")\n",
    "        "
   ]
  },
  {
   "cell_type": "code",
   "execution_count": null,
   "metadata": {},
   "outputs": [],
   "source": []
  },
  {
   "cell_type": "code",
   "execution_count": null,
   "metadata": {},
   "outputs": [],
   "source": []
  },
  {
   "cell_type": "code",
   "execution_count": null,
   "metadata": {},
   "outputs": [],
   "source": []
  }
 ],
 "metadata": {
  "kernelspec": {
   "display_name": "Python 3",
   "language": "python",
   "name": "python3"
  },
  "language_info": {
   "codemirror_mode": {
    "name": "ipython",
    "version": 3
   },
   "file_extension": ".py",
   "mimetype": "text/x-python",
   "name": "python",
   "nbconvert_exporter": "python",
   "pygments_lexer": "ipython3",
   "version": "3.6.3"
  }
 },
 "nbformat": 4,
 "nbformat_minor": 2
}
