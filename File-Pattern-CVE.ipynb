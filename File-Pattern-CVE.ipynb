{
 "cells": [
  {
   "cell_type": "code",
   "execution_count": 19,
   "metadata": {},
   "outputs": [],
   "source": [
    "from bs4 import BeautifulSoup\n",
    "import re\n",
    "import requests"
   ]
  },
  {
   "cell_type": "code",
   "execution_count": 14,
   "metadata": {},
   "outputs": [
    {
     "name": "stdout",
     "output_type": "stream",
     "text": [
      "total 24\r\n",
      "-rw-r--r--   1 bala  staff  3480 Nov 18 12:36 File-Pattern-CVE.ipynb\r\n",
      "-rw-r--r--   1 bala  staff  2379 Nov 18 11:54 scrape.py\r\n",
      "-rw-r--r--   1 bala  staff    36 Nov 18 08:54 README.md\r\n",
      "drwxr-xr-x  31 bala  staff   992 Nov 15 22:10 \u001b[34mcve-data\u001b[m\u001b[m/\r\n"
     ]
    }
   ],
   "source": [
    "%ls -lt"
   ]
  },
  {
   "cell_type": "code",
   "execution_count": 15,
   "metadata": {},
   "outputs": [
    {
     "data": {
      "text/plain": [
       "'/Users/bala/Desktop/227/code/CSE-227/cve-data/'"
      ]
     },
     "execution_count": 15,
     "metadata": {},
     "output_type": "execute_result"
    }
   ],
   "source": [
    "file_base = %pwd\n",
    "file_base += \"/cve-data/\"\n",
    "file_base"
   ]
  },
  {
   "cell_type": "code",
   "execution_count": 17,
   "metadata": {},
   "outputs": [],
   "source": [
    "CVE_IDS = []\n",
    "file = \"download (\"\n",
    "for i in range(0,29):\n",
    "    file_path = file_base + file + str(0) + \").tsv\"\n",
    "    with open(file_path) as f:\n",
    "        contents = f.readlines()\n",
    "        for line in contents[1:]:\n",
    "            words = line.split('\\t')\n",
    "            #CVE_IDS.append(words[1])\n",
    "            CVE_IDS.append(words[1])"
   ]
  },
  {
   "cell_type": "code",
   "execution_count": null,
   "metadata": {},
   "outputs": [],
   "source": [
    "CVE_TO_BUGID = dict()\n",
    "\n",
    "for cve in CVE_IDS:\n",
    "    url = \"http://www.cvedetails.com/cve/\" + cve + \"/\"\n",
    "    hdr = {'User-Agent': 'Mozilla/5.0'}\n",
    "    html = requests.get(url)\n",
    "    soup = BeautifulSoup(html.text, \"html.parser\")\n",
    "    \n",
    "    table = soup.find(\"table\", {\"id\": \"vulnrefstable\"})\n",
    "    a_tags = table.find_all('a')\n",
    "    for a in a_tags:\n",
    "        if \"bugzilla\" in a['href']:\n",
    "            if cve in CVE_TO_BUGID:\n",
    "                CVE_TO_BUGID[cve].append(a['href'].split(\"=\")[1])\n",
    "            else:\n",
    "                CVE_TO_BUGID[cve] = [a['href'].split(\"=\")[1]]\n",
    "\n",
    "print(len(CVE_TO_BUGID))"
   ]
  },
  {
   "cell_type": "code",
   "execution_count": null,
   "metadata": {},
   "outputs": [],
   "source": []
  }
 ],
 "metadata": {
  "kernelspec": {
   "display_name": "Python 3",
   "language": "python",
   "name": "python3"
  },
  "language_info": {
   "codemirror_mode": {
    "name": "ipython",
    "version": 3
   },
   "file_extension": ".py",
   "mimetype": "text/x-python",
   "name": "python",
   "nbconvert_exporter": "python",
   "pygments_lexer": "ipython3",
   "version": "3.6.3"
  }
 },
 "nbformat": 4,
 "nbformat_minor": 2
}
